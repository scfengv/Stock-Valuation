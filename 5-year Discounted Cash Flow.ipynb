{
 "cells": [
  {
   "cell_type": "code",
   "execution_count": 36,
   "metadata": {},
   "outputs": [],
   "source": [
    "import re\n",
    "import time\n",
    "import requests\n",
    "import selenium\n",
    "import numpy as np\n",
    "import pandas as pd\n",
    "import yfinance as yf\n",
    "import plotly.express as px\n",
    "import matplotlib.pyplot as plt\n",
    "import matplotlib.dates as mdates\n",
    "import plotly.graph_objects as go\n",
    "\n",
    "from bs4 import BeautifulSoup\n",
    "from datetime import datetime\n",
    "from selenium import webdriver\n",
    "from sympy import symbols, solve\n",
    "from plotly.subplots import make_subplots\n",
    "from pandas_datareader import data as pdr\n",
    "from selenium.webdriver.common.by import By\n",
    "from forex_python.converter import CurrencyRates\n",
    "from selenium.webdriver.chrome.options import Options\n",
    "from webdriver_manager.chrome import ChromeDriverManager\n",
    "from selenium.webdriver.support.ui import WebDriverWait\n",
    "from selenium.webdriver.support import expected_conditions as EC\n",
    "from selenium.webdriver.chrome.service import Service as ChromeService"
   ]
  },
  {
   "cell_type": "code",
   "execution_count": 37,
   "metadata": {},
   "outputs": [],
   "source": [
    "ticker = str(input('Ticker: '))"
   ]
  },
  {
   "cell_type": "code",
   "execution_count": 38,
   "metadata": {},
   "outputs": [
    {
     "name": "stdout",
     "output_type": "stream",
     "text": [
      "Market cap value: 107,516,000,000\n",
      "Beta: 0.99\n"
     ]
    }
   ],
   "source": [
    "options = Options()\n",
    "options.add_argument('--headless')\n",
    "options.add_argument('window-size = 800x600')\n",
    "prefs = {\"profile.managed_default_content_settings.images\": 2}\n",
    "options.add_experimental_option(\"prefs\", prefs)\n",
    "\n",
    "driver = webdriver.Chrome(options = options)\n",
    "\n",
    "url = fr'https://finance.yahoo.com/quote/{ticker}?p={ticker}&.tsrc=fin-srch'\n",
    "\n",
    "driver.get(url)\n",
    "page_source = driver.page_source\n",
    "soup = BeautifulSoup(page_source, 'html.parser')\n",
    "\n",
    "market_cap_parent = soup.find('span', string = 'Market Cap').find_parent('tr')\n",
    "market_cap_element = market_cap_parent.find('td', class_ = \"Ta(end) Fw(600) Lh(14px)\").text\n",
    "\n",
    "value, unit = market_cap_element[:-1], market_cap_element[-1]\n",
    "value = float(value)\n",
    "\n",
    "if unit == 'T':\n",
    "    market_cap_value = value * 1e12\n",
    "elif unit == 'B':\n",
    "    market_cap_value = value * 1e9\n",
    "elif unit == 'M':\n",
    "    market_cap_value = value * 1e6\n",
    "\n",
    "print(f'Market cap value: {round(market_cap_value):,}')\n",
    "\n",
    "\n",
    "beta_parent = soup.find('span', string = 'Beta (5Y Monthly)').find_parent('tr')\n",
    "beta_value = float(beta_parent.find('td', class_ = \"Ta(end) Fw(600) Lh(14px)\").text)\n",
    "print(f'Beta: {beta_value:,}')\n",
    "\n",
    "driver.quit()"
   ]
  },
  {
   "cell_type": "code",
   "execution_count": 39,
   "metadata": {},
   "outputs": [
    {
     "name": "stdout",
     "output_type": "stream",
     "text": [
      "Pretax Income: 5,646,000,000\n",
      "Tax Provision: 1,352,100,000\n",
      "Interest Expense: 560,500,000\n"
     ]
    }
   ],
   "source": [
    "options = Options()\n",
    "\n",
    "options.add_argument('--headless')\n",
    "options.add_argument('window-size = 800x600')\n",
    "prefs = {\"profile.managed_default_content_settings.images\": 2}\n",
    "options.add_experimental_option(\"prefs\", prefs)\n",
    "\n",
    "driver = webdriver.Chrome(options = options)\n",
    "\n",
    "financial_url = fr'https://finance.yahoo.com/quote/{ticker}/financials?p={ticker}'\n",
    "driver.get(financial_url)\n",
    "page_source = driver.page_source\n",
    "soup = BeautifulSoup(page_source, 'html.parser')\n",
    "\n",
    "pretax_income_parent = soup.find('div', class_ = \"D(ib) Va(m) Ell Mt(-3px) W(215px)--mv2 W(200px) undefined\", title = \"Pretax Income\")\n",
    "pretax_income_span = pretax_income_parent.find_next('span').find_next('span')\n",
    "pretax_income_value = int(re.sub(',', '', pretax_income_span.text)) * 1000\n",
    "print(f\"Pretax Income: {pretax_income_value:,}\")\n",
    "\n",
    "tax_provision_parent = soup.find('div',  class_ = \"D(ib) Va(m) Ell Mt(-3px) W(215px)--mv2 W(200px) undefined\", title = \"Tax Provision\")\n",
    "tax_provision_span = tax_provision_parent.find_next('span').find_next('span')\n",
    "tax_provision_value = int(re.sub(',', '', tax_provision_span.text)) * 1000\n",
    "print(f\"Tax Provision: {tax_provision_value:,}\")\n",
    "\n",
    "interest_expense_parent = soup.find('div',  class_ = \"D(ib) Va(m) Ell Mt(-3px) W(215px)--mv2 W(200px) undefined\", title = \"Interest Expense\")\n",
    "interest_expense_span = interest_expense_parent.find_next('span').find_next('span')\n",
    "interest_expense_value = int(re.sub(',', '', interest_expense_span.text)) * 1000\n",
    "print(f\"Interest Expense: {interest_expense_value:,}\")\n",
    "\n",
    "driver.quit()"
   ]
  },
  {
   "cell_type": "code",
   "execution_count": 40,
   "metadata": {},
   "outputs": [
    {
     "name": "stdout",
     "output_type": "stream",
     "text": [
      "Total Debt: 24,600,000,000.0\n"
     ]
    }
   ],
   "source": [
    "options = Options()\n",
    "options.add_argument('--headless')\n",
    "options.add_argument('window-size = 800x600')\n",
    "prefs = {\"profile.managed_default_content_settings.images\": 2}\n",
    "options.add_experimental_option(\"prefs\", prefs)\n",
    "\n",
    "driver = webdriver.Chrome(options = options)\n",
    "\n",
    "balance_sheet_url = fr'https://stockanalysis.com/stocks/{ticker}/financials/balance-sheet/'\n",
    "driver.get(balance_sheet_url)\n",
    "page_source = driver.page_source\n",
    "soup = BeautifulSoup(page_source, 'html.parser')\n",
    "\n",
    "debt_td = soup.find('span', string = 'Total Debt').find_parent('td').find_next('td').text\n",
    "debt_value = float(re.sub(',', '', debt_td))* 1000000\n",
    "print(f'Total Debt: {debt_value:,}')\n",
    "\n",
    "driver.quit()"
   ]
  },
  {
   "cell_type": "code",
   "execution_count": 41,
   "metadata": {},
   "outputs": [],
   "source": [
    "options = Options()\n",
    "options.add_argument('--headless')\n",
    "options.add_argument('window-size = 800x600')\n",
    "prefs = {\"profile.managed_default_content_settings.images\": 2}\n",
    "options.add_experimental_option(\"prefs\", prefs)\n",
    "\n",
    "driver = webdriver.Chrome(options = options)\n",
    "\n",
    "treasury_bond_url = r'https://ycharts.com/indicators/10_year_treasury_rate'\n",
    "driver.get(treasury_bond_url)\n",
    "page_source = driver.page_source\n",
    "soup = BeautifulSoup(page_source, 'html.parser')\n",
    "\n",
    "tnx_row = soup.find('td', string = 'Last Value').find_next('td').text\n",
    "tnx_value = float(re.sub('%', '', tnx_row))\n",
    "\n",
    "driver.quit()"
   ]
  },
  {
   "cell_type": "code",
   "execution_count": 42,
   "metadata": {},
   "outputs": [
    {
     "name": "stdout",
     "output_type": "stream",
     "text": [
      "Expected Market Return (10-year VTI): 11.91 %\n",
      "The value of 10-year Treasury Bond Yield is: 4.27 %\n",
      "Market Premium: 7.64 %\n"
     ]
    }
   ],
   "source": [
    "options = Options()\n",
    "options.add_argument('--headless')\n",
    "options.add_argument('window-size = 800x600')\n",
    "prefs = {\"profile.managed_default_content_settings.images\": 2}\n",
    "options.add_experimental_option(\"prefs\", prefs)\n",
    "\n",
    "driver = webdriver.Chrome(options = options)\n",
    "\n",
    "financial_url = r'https://finance.yahoo.com/quote/VTI/performance?p=VTI'\n",
    "driver.get(financial_url)\n",
    "page_source = driver.page_source\n",
    "soup = BeautifulSoup(page_source, 'html.parser')\n",
    "\n",
    "return_div = soup.find('span', string = '10-Year').find_parent('div')\n",
    "vti_10_year_return = return_div.find_all('span', class_ = 'W(20%)')[0].text.strip()\n",
    "market_value = float(re.sub('%', '', vti_10_year_return))\n",
    "print(f'Expected Market Return (10-year VTI): {market_value} %')\n",
    "print(f'The value of 10-year Treasury Bond Yield is: {tnx_value} %')\n",
    "print(f'Market Premium: {round(market_value - tnx_value, 4)} %')\n",
    "\n",
    "driver.quit()"
   ]
  },
  {
   "cell_type": "markdown",
   "metadata": {},
   "source": [
    "$WACC\\ (Weighted\\ Average\\ Cost\\ of\\ Capital) = W_D * R_D * (1-t) + W_E * R_E$ <br><br>\n",
    "Weight of Debt ($W_D$) = $\\frac{Debt}{Debt\\ +\\ Market\\ Cap}$ <br><br>\n",
    "Weight of Equity ($W_E$) = $\\frac{Market\\ Cap}{Debt\\ +\\ Market\\ Cap}$ <br><br>\n",
    "Cost of Debt ($R_D$) = $\\frac{Interest\\ Expense}{Debt}$ <br><br>\n",
    "Cost of Equity ($R_E$) = $Treasury\\ Bond\\ Rate\\ +\\ Beta * (Expected\\ Market\\ Return - Treasury\\ Bond\\ Rate\\ )$"
   ]
  },
  {
   "cell_type": "code",
   "execution_count": 43,
   "metadata": {},
   "outputs": [
    {
     "name": "stdout",
     "output_type": "stream",
     "text": [
      "Weight of Debt = 18.62 %\n",
      "Weight of Equity = 81.38 %\n",
      "Cost of Debt = 2.2785 %\n",
      "Cost of Euqity = 11.8336 %\n",
      "========================\n",
      "WACC = 9.9528 %\n"
     ]
    }
   ],
   "source": [
    "weight_of_debt = debt_value / (debt_value + market_cap_value)\n",
    "weight_of_equity = market_cap_value / (debt_value + market_cap_value)\n",
    "cost_of_debt = interest_expense_value/ debt_value\n",
    "cost_of_equity = (tnx_value + beta_value * (market_value - tnx_value)) / 100\n",
    "tax_rate = tax_provision_value / pretax_income_value\n",
    "wacc = (weight_of_debt * cost_of_debt * (1 - tax_rate) + weight_of_equity * cost_of_equity) * 100\n",
    "\n",
    "print(f'Weight of Debt = {round(weight_of_debt * 100, 4)} %')\n",
    "print(f'Weight of Equity = {round(weight_of_equity * 100, 4)} %')\n",
    "print(f'Cost of Debt = {round(cost_of_debt * 100, 4)} %')\n",
    "print(f'Cost of Euqity = {round(cost_of_equity * 100, 4)} %')\n",
    "print('========================')\n",
    "print(f'WACC = {round(wacc, 4)} %')"
   ]
  },
  {
   "cell_type": "code",
   "execution_count": 44,
   "metadata": {},
   "outputs": [],
   "source": [
    "options = Options()\n",
    "options.add_argument('--headless')\n",
    "options.add_argument('window-size = 800x600')\n",
    "prefs = {\"profile.managed_default_content_settings.images\": 2}\n",
    "options.add_experimental_option(\"prefs\", prefs)\n",
    "\n",
    "driver = webdriver.Chrome(options = options)\n",
    "\n",
    "fcf_url = fr'https://stockanalysis.com/stocks/{ticker}/financials/'\n",
    "driver.get(fcf_url)\n",
    "page_source = driver.page_source\n",
    "soup = BeautifulSoup(page_source, 'html.parser')\n",
    "\n",
    "fcf_td = soup.find('span', string = 'Free Cash Flow').find_parent('td').find_next('td').text\n",
    "fcf_value = float(re.sub(',', '', fcf_td)) * 1000000\n",
    "\n",
    "driver.quit()"
   ]
  },
  {
   "cell_type": "code",
   "execution_count": 45,
   "metadata": {},
   "outputs": [
    {
     "name": "stdout",
     "output_type": "stream",
     "text": [
      "Growth Rate of Further 5 years and Terminal Growth Rate: 11.684%, 9.965%, 9.594%, 12.178%, 8.905%, 2.5%\n"
     ]
    }
   ],
   "source": [
    "options = Options()\n",
    "options.add_argument('--headless')\n",
    "options.add_argument('window-size = 800x600')\n",
    "prefs = {\"profile.managed_default_content_settings.images\": 2}\n",
    "options.add_experimental_option(\"prefs\", prefs)\n",
    "\n",
    "driver = webdriver.Chrome(options = options)\n",
    "\n",
    "sa_url = fr'https://stockanalysis.com/stocks/{ticker}/forecast/'\n",
    "driver.get(sa_url)\n",
    "page_source = driver.page_source\n",
    "soup = BeautifulSoup(page_source, 'html.parser')\n",
    "\n",
    "revenue_growth_numbers = []\n",
    "\n",
    "revenue_growth_td = soup.find('tr', class_ = \"border-b text-[0.85rem] dark:border-dark-700 sm:text-[0.95rem]\").find_all('td')\n",
    "\n",
    "for td in range(6, 11):\n",
    "    revenue_growth_numbers.append(float(re.sub('%', '', revenue_growth_td[td]['title'])))\n",
    "\n",
    "growth_rate_1 = (revenue_growth_numbers[0] / 100) + 1\n",
    "growth_rate_2 = (revenue_growth_numbers[1] / 100) + 1\n",
    "growth_rate_3 = (revenue_growth_numbers[2] / 100) + 1\n",
    "growth_rate_4 = (revenue_growth_numbers[3] / 100) + 1\n",
    "growth_rate_5 = (revenue_growth_numbers[4] / 100) + 1\n",
    "terminal_growth_rate = 1.025\n",
    "print(f\"Growth Rate of Further 5 years and Terminal Growth Rate: {revenue_growth_numbers[0]}%, {revenue_growth_numbers[1]}%, {revenue_growth_numbers[2]}%, {revenue_growth_numbers[3]}%, {revenue_growth_numbers[4]}%, {round((terminal_growth_rate - 1) * 100, 3)}%\")\n",
    "\n",
    "driver.quit()"
   ]
  },
  {
   "cell_type": "markdown",
   "metadata": {},
   "source": [
    "### Terminal Value\n",
    "[Wall Street Oasis | Terminal Value](https://www.wallstreetoasis.com/resources/skills/valuation/terminal-value)  \n",
    "[Wall Street Oasis | EBIT vs EBITDA](https://www.wallstreetoasis.com/resources/skills/finance/exit-multiple)  \n",
    "\n",
    "#### Exit Multiple Method\n",
    "The exit multiple method assumes that a company will **be sold after the forecast period** for a multiple of some market indicator.  \n",
    "$$\n",
    "Terminal\\ Value\\ = Final\\ Year\\ Metric\\ *\\ Exit\\ Multiple\n",
    "$$\n",
    "\n",
    "Advantages:  \n",
    "- Reflecting the market expectations and valuation multiples of comparable companies.\n",
    "- Using market-based data rather than subjective assumptions about growth rates and margins.\n",
    "\n",
    "Drawbacks:\n",
    "- It is more difficult and subjective to find and select appropriate multiples and comparable companies.\n",
    "- It is more uncertain and volatile, depending on market conditions and sentiments that may change over time or vary across different sectors.\n",
    "\n",
    "##### EBITDA multiple\n",
    "- **Mature & Stable** companies with consistent cash flows and margins\n",
    "- It may NOT be suitable for **high-growth** or **low-margin** companies like technology or biotech.\n",
    "\n",
    "##### EBIT multiple\n",
    "- Include depreciation and amortization, which is particularly useful while analyzing **capital-intensive** businesses where depreciation is a true economic cost.\n",
    "- Such as, automobile manufacturing, energy, steel production, and telecommunications.\n",
    "\n",
    "##### Revenue multiple\n",
    "- Often used for **high-growth** or **low-margin** companies with strong revenue potential but **not profitable** or have **negative cash flows**.\n",
    "- It may NOT be suitable for companies with **stable revenue but declining growth**.\n",
    "\n",
    "##### Earnings multiple\n",
    "- Often used for profitable and growing companies with **positive cash flows and earnings**, such as **consumer discretionary**.\n",
    "\n",
    "---\n",
    "\n",
    "#### Perpetual Growth Method\n",
    "The perpetual growth method assumes that a company will **always produce cash flows at a steady rate** after the projection time.  \n",
    "$$\n",
    "Terminal\\ Value = \\frac{Final\\ Year\\ FCF\\ *\\ (1\\ +\\ Perpetuity\\ Growth\\ Rate)}{(Discount\\ Rate\\ -\\ Perpetuity\\ Growth\\ Rate)}\n",
    "$$\n",
    "\n",
    "Advantages:\n",
    "- Consist with the theory of discounted cash flow valuation.\n",
    "- It is widely used and accepted by academics and practitioners.\n",
    "\n",
    "Drawbacks:\n",
    "- It is sensitive to the assumptions of the growth rate and the discount rate.\n",
    "- Improbable in a dynamic and competitive market.\n",
    "- This is because it ignores the potential changes in the industry structure."
   ]
  },
  {
   "cell_type": "code",
   "execution_count": 47,
   "metadata": {},
   "outputs": [],
   "source": [
    "options = Options()\n",
    "options.add_argument('--headless')\n",
    "options.add_argument('window-size = 800x600')\n",
    "prefs = {\"profile.managed_default_content_settings.images\": 2}\n",
    "options.add_experimental_option(\"prefs\", prefs)\n",
    "\n",
    "driver = webdriver.Chrome(options = options)\n",
    "\n",
    "share_url = fr'https://stockanalysis.com/stocks/{ticker}/statistics/'\n",
    "driver.get(share_url)\n",
    "page_source = driver.page_source\n",
    "soup = BeautifulSoup(page_source, 'html.parser')\n",
    "\n",
    "## EV / EBIT multiple\n",
    "ebit_td = soup.find('span', string = 'EBIT ').find_parent('td').find_next('td')['title']\n",
    "ebit_num = float(re.sub(',', '', ebit_td))\n",
    "\n",
    "evebit_td = soup.find('span', string = 'EV / EBIT ').find_parent('td').find_next('td').text\n",
    "evebit_num = float(evebit_td)\n",
    "\n",
    "## EV / EBITDA multiple\n",
    "ebitda_td = soup.find('span', string = 'EBITDA ').find_parent('td').find_next('td')['title']\n",
    "ebitda_num = float(re.sub(',', '', ebitda_td))\n",
    "\n",
    "evebitda_td = soup.find('span', string = 'EV / EBITDA ').find_parent('td').find_next('td').text\n",
    "evebitda_num = float(evebitda_td)\n",
    "\n",
    "# print(f\"EBITDA: {ebitda_num:,}\")\n",
    "# print(f\"EV / EBITDA: {evebitda_num:,}\")\n",
    "# print(f\"Terminal Value by EBITDA multiple: {ebitda_num * evebitda_num:,}\")\n",
    "\n",
    "## Share Outstandings\n",
    "share_td = soup.find('span', string = 'Shares Outstanding ').find_parent('td').find_next('td')['title']\n",
    "share_num = float(re.sub(',', '', share_td))\n",
    "# print(f\"Shares Outstanding: {share_num:,}\")\n",
    "\n",
    "## Current Stock Price\n",
    "## During 休盤\n",
    "# price = float(soup.find('div', class_ = \"text-4xl font-bold block sm:inline\").text)\n",
    "\n",
    "## During 開盤\n",
    "price = float(soup.find('div', class_ = \"text-4xl font-bold inline-block\").text)\n",
    "\n",
    "driver.quit()"
   ]
  },
  {
   "cell_type": "code",
   "execution_count": 48,
   "metadata": {},
   "outputs": [
    {
     "name": "stdout",
     "output_type": "stream",
     "text": [
      "Latest 2023 Free Cash Flow:          3,785,000,000\n",
      "Predicted 2024 Discounted Cash Flow: 4,058,718,056\n",
      "Predicted 2025 Discounted Cash Flow: 4,086,694,651\n",
      "Predicted 2026 Discounted Cash Flow: 4,073,357,640\n",
      "Predicted 2027 Discounted Cash Flow: 4,155,792,076\n",
      "Predicted 2028 Discounted Cash Flow: 4,116,188,028\n",
      "Predicted Terminal value of Discounted Cash Flow:  83,909,388,310\n",
      "==================================================================\n",
      "Net Present Value of SBUX: 104,400,138,761\n"
     ]
    }
   ],
   "source": [
    "current_datetime = datetime.now()\n",
    "current_year = current_datetime.year\n",
    "end_of_year = datetime(current_datetime.year, 12, 31)\n",
    "time_difference = end_of_year - current_datetime\n",
    "percentage_remaining = (time_difference.days / 365)\n",
    "\n",
    "fcf_ttm = round(fcf_value)\n",
    "fcf_1 = round(fcf_ttm * growth_rate_1)\n",
    "dcf_1 = round(fcf_1 / ((1 + (wacc / 100)) ** (percentage_remaining / 2)))  ## DCF in the middle of this year whatever the remaining\n",
    "\n",
    "fcf_2 = round(fcf_1 * growth_rate_2)\n",
    "dcf_2 = round(fcf_2 / ((1 + (wacc / 100)) ** (percentage_remaining + 0.5))) ## The end of this year + 0.5 year = Middle of the next year\n",
    "\n",
    "fcf_3 = round(fcf_2 * growth_rate_3)\n",
    "dcf_3 = round(fcf_3 / ((1 + (wacc / 100)) ** (percentage_remaining + 1.5)))\n",
    "\n",
    "fcf_4 = round(fcf_3 * growth_rate_4)\n",
    "dcf_4 = round(fcf_4 / ((1 + (wacc / 100)) ** (percentage_remaining + 2.5)))\n",
    "\n",
    "fcf_5 = round(fcf_4 * growth_rate_5)\n",
    "dcf_5 = round(fcf_5 / ((1 + (wacc / 100)) ** (percentage_remaining + 3.5)))\n",
    "\n",
    "## Perpetual Growth Method\n",
    "# dcf_terminal = round((fcf_5 * terminal_growth_rate / ((wacc / 100) - (terminal_growth_rate - 1))) / ((1 + (wacc / 100)) ** (percentage_remaining + 3.5)))\n",
    "\n",
    "## Exit Multiple Method EV/EBIT, Capital-Intensive Industries\n",
    "# dcf_terminal = round((ebit_num * evebit_num) / ((1 + (wacc / 100)) ** (percentage_remaining + 3.5)))\n",
    "\n",
    "## Exit Multiple Method EV/EBITDA, Mature & Stable Industries\n",
    "dcf_terminal = round((ebitda_num * evebitda_num) / ((1 + (wacc / 100)) ** (percentage_remaining + 3.5)))\n",
    "\n",
    "ev = dcf_1 + dcf_2 + dcf_3 + dcf_4 + dcf_5 + dcf_terminal\n",
    "\n",
    "print(f\"Latest {current_year - 1} Free Cash Flow:          {fcf_ttm:,}\")\n",
    "print(f\"Predicted {current_year} Discounted Cash Flow: {dcf_1:,}\")\n",
    "print(f\"Predicted {current_year + 1} Discounted Cash Flow: {dcf_2:,}\")\n",
    "print(f\"Predicted {current_year + 2} Discounted Cash Flow: {dcf_3:,}\")\n",
    "print(f\"Predicted {current_year + 3} Discounted Cash Flow: {dcf_4:,}\")\n",
    "print(f\"Predicted {current_year + 4} Discounted Cash Flow: {dcf_5:,}\")\n",
    "print(f\"Predicted Terminal value of Discounted Cash Flow:  {dcf_terminal:,}\")\n",
    "print(\"==================================================================\")\n",
    "print(f\"Net Present Value of {ticker}: {ev:,}\")"
   ]
  },
  {
   "cell_type": "code",
   "execution_count": 49,
   "metadata": {},
   "outputs": [
    {
     "name": "stdout",
     "output_type": "stream",
     "text": [
      "Cash & Cash Equivalents: 3,953,000,000\n"
     ]
    }
   ],
   "source": [
    "options = Options()\n",
    "options.add_argument('--headless')\n",
    "options.add_argument('window-size = 800x600')\n",
    "prefs = {\"profile.managed_default_content_settings.images\": 2}\n",
    "options.add_experimental_option(\"prefs\", prefs)\n",
    "\n",
    "driver = webdriver.Chrome(options = options)\n",
    "\n",
    "ccs_url = fr\"https://stockanalysis.com/stocks/{ticker}/financials/balance-sheet/\"\n",
    "driver.get(ccs_url)\n",
    "page_source = driver.page_source\n",
    "soup = BeautifulSoup(page_source, 'html.parser')\n",
    "\n",
    "ccs_td = soup.find('span', string = 'Cash & Cash Equivalents').find_parent('td').find_next('td').text\n",
    "ccs_value = round(float(re.sub(',', '', ccs_td)) * 1e6)\n",
    "print(f'Cash & Cash Equivalents: {ccs_value:,}')\n",
    "\n",
    "driver.quit()"
   ]
  },
  {
   "cell_type": "code",
   "execution_count": 50,
   "metadata": {},
   "outputs": [
    {
     "name": "stdout",
     "output_type": "stream",
     "text": [
      "Target Price: 73.97\n",
      "Current Price: 94.9\n"
     ]
    }
   ],
   "source": [
    "equity = ev - debt_value + ccs_value\n",
    "target_price = round(equity / share_num, 2)\n",
    "\n",
    "print(f\"Target Price: {target_price}\")\n",
    "print(f\"Current Price: {price}\")"
   ]
  },
  {
   "cell_type": "code",
   "execution_count": 51,
   "metadata": {},
   "outputs": [
    {
     "name": "stdout",
     "output_type": "stream",
     "text": [
      "Implied Growth Rate by current price: 10.0431 %\n"
     ]
    }
   ],
   "source": [
    "g = (price * share_num - dcf_terminal) / fcf_value\n",
    "# c = terminal_growth_rate / (((wacc / 100) - (terminal_growth_rate - 1)) * ((1 + wacc / 100) ** 5))\n",
    "\n",
    "x = symbols('x')\n",
    "quintic_equation = x**5 + x**4 + x**3 + x**2 + x - g\n",
    "solutions = solve(quintic_equation, x)\n",
    "numerical_solutions = [sol.evalf() for sol in solutions]\n",
    "t = float(numerical_solutions[0])\n",
    "r = t * terminal_growth_rate - 1\n",
    "\n",
    "print(f'Implied Growth Rate by current price: {round(r * 100, 4)} %')"
   ]
  }
 ],
 "metadata": {
  "kernelspec": {
   "display_name": "Python 3",
   "language": "python",
   "name": "python3"
  },
  "language_info": {
   "codemirror_mode": {
    "name": "ipython",
    "version": 3
   },
   "file_extension": ".py",
   "mimetype": "text/x-python",
   "name": "python",
   "nbconvert_exporter": "python",
   "pygments_lexer": "ipython3",
   "version": "3.9.13"
  }
 },
 "nbformat": 4,
 "nbformat_minor": 2
}
